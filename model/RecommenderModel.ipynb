{
 "cells": [
  {
   "cell_type": "code",
   "execution_count": 1,
   "id": "445c41a8-e9c0-4a29-a756-b4749e077e4d",
   "metadata": {},
   "outputs": [],
   "source": [
    "import nltk\n",
    "import pandas as pd\n",
    "from nltk.stem.porter import PorterStemmer\n",
    "from sklearn.feature_extraction.text import TfidfVectorizer\n",
    "from sklearn.metrics.pairwise import cosine_similarity\n",
    "stemmer = PorterStemmer()"
   ]
  },
  {
   "cell_type": "code",
   "execution_count": 2,
   "id": "3ed414fc-30a1-48b1-a036-f790b016dd33",
   "metadata": {},
   "outputs": [],
   "source": [
    "df = pd.read_csv(\"spotifySongData.csv\")"
   ]
  },
  {
   "cell_type": "code",
   "execution_count": 3,
   "id": "b8d2e409-993e-4f04-9c60-08cdffb8e965",
   "metadata": {},
   "outputs": [
    {
     "data": {
      "text/html": [
       "<div>\n",
       "<style scoped>\n",
       "    .dataframe tbody tr th:only-of-type {\n",
       "        vertical-align: middle;\n",
       "    }\n",
       "\n",
       "    .dataframe tbody tr th {\n",
       "        vertical-align: top;\n",
       "    }\n",
       "\n",
       "    .dataframe thead th {\n",
       "        text-align: right;\n",
       "    }\n",
       "</style>\n",
       "<table border=\"1\" class=\"dataframe\">\n",
       "  <thead>\n",
       "    <tr style=\"text-align: right;\">\n",
       "      <th></th>\n",
       "      <th>artist</th>\n",
       "      <th>song</th>\n",
       "      <th>link</th>\n",
       "      <th>text</th>\n",
       "    </tr>\n",
       "  </thead>\n",
       "  <tbody>\n",
       "    <tr>\n",
       "      <th>0</th>\n",
       "      <td>ABBA</td>\n",
       "      <td>Ahe's My Kind Of Girl</td>\n",
       "      <td>/a/abba/ahes+my+kind+of+girl_20598417.html</td>\n",
       "      <td>Look at her face, it's a wonderful face  \\r\\nA...</td>\n",
       "    </tr>\n",
       "    <tr>\n",
       "      <th>1</th>\n",
       "      <td>ABBA</td>\n",
       "      <td>Andante, Andante</td>\n",
       "      <td>/a/abba/andante+andante_20002708.html</td>\n",
       "      <td>Take it easy with me, please  \\r\\nTouch me gen...</td>\n",
       "    </tr>\n",
       "    <tr>\n",
       "      <th>2</th>\n",
       "      <td>ABBA</td>\n",
       "      <td>As Good As New</td>\n",
       "      <td>/a/abba/as+good+as+new_20003033.html</td>\n",
       "      <td>I'll never know why I had to go  \\r\\nWhy I had...</td>\n",
       "    </tr>\n",
       "    <tr>\n",
       "      <th>3</th>\n",
       "      <td>ABBA</td>\n",
       "      <td>Bang</td>\n",
       "      <td>/a/abba/bang_20598415.html</td>\n",
       "      <td>Making somebody happy is a question of give an...</td>\n",
       "    </tr>\n",
       "    <tr>\n",
       "      <th>4</th>\n",
       "      <td>ABBA</td>\n",
       "      <td>Bang-A-Boomerang</td>\n",
       "      <td>/a/abba/bang+a+boomerang_20002668.html</td>\n",
       "      <td>Making somebody happy is a question of give an...</td>\n",
       "    </tr>\n",
       "  </tbody>\n",
       "</table>\n",
       "</div>"
      ],
      "text/plain": [
       "  artist                   song                                        link  \\\n",
       "0   ABBA  Ahe's My Kind Of Girl  /a/abba/ahes+my+kind+of+girl_20598417.html   \n",
       "1   ABBA       Andante, Andante       /a/abba/andante+andante_20002708.html   \n",
       "2   ABBA         As Good As New        /a/abba/as+good+as+new_20003033.html   \n",
       "3   ABBA                   Bang                  /a/abba/bang_20598415.html   \n",
       "4   ABBA       Bang-A-Boomerang      /a/abba/bang+a+boomerang_20002668.html   \n",
       "\n",
       "                                                text  \n",
       "0  Look at her face, it's a wonderful face  \\r\\nA...  \n",
       "1  Take it easy with me, please  \\r\\nTouch me gen...  \n",
       "2  I'll never know why I had to go  \\r\\nWhy I had...  \n",
       "3  Making somebody happy is a question of give an...  \n",
       "4  Making somebody happy is a question of give an...  "
      ]
     },
     "execution_count": 3,
     "metadata": {},
     "output_type": "execute_result"
    }
   ],
   "source": [
    "df.head(5)"
   ]
  },
  {
   "cell_type": "code",
   "execution_count": 4,
   "id": "5a78b084-d22e-45b1-b40d-8c6fc1e045db",
   "metadata": {},
   "outputs": [
    {
     "data": {
      "text/plain": [
       "(57650, 4)"
      ]
     },
     "execution_count": 4,
     "metadata": {},
     "output_type": "execute_result"
    }
   ],
   "source": [
    "df.shape"
   ]
  },
  {
   "cell_type": "code",
   "execution_count": 5,
   "id": "f39f9644-89dd-439d-90fd-747267fb2cf9",
   "metadata": {},
   "outputs": [
    {
     "data": {
      "text/plain": [
       "artist    0\n",
       "song      0\n",
       "link      0\n",
       "text      0\n",
       "dtype: int64"
      ]
     },
     "execution_count": 5,
     "metadata": {},
     "output_type": "execute_result"
    }
   ],
   "source": [
    "df.isnull().sum()"
   ]
  },
  {
   "cell_type": "code",
   "execution_count": 6,
   "id": "517a74ea-719f-4372-b008-80f9b6ff2e61",
   "metadata": {},
   "outputs": [],
   "source": [
    "df =df.sample(10000).drop('link', axis=1).reset_index(drop=True)"
   ]
  },
  {
   "cell_type": "code",
   "execution_count": 7,
   "id": "a528f124-9985-4ae6-b0bc-a33e4f765639",
   "metadata": {},
   "outputs": [
    {
     "data": {
      "text/html": [
       "<div>\n",
       "<style scoped>\n",
       "    .dataframe tbody tr th:only-of-type {\n",
       "        vertical-align: middle;\n",
       "    }\n",
       "\n",
       "    .dataframe tbody tr th {\n",
       "        vertical-align: top;\n",
       "    }\n",
       "\n",
       "    .dataframe thead th {\n",
       "        text-align: right;\n",
       "    }\n",
       "</style>\n",
       "<table border=\"1\" class=\"dataframe\">\n",
       "  <thead>\n",
       "    <tr style=\"text-align: right;\">\n",
       "      <th></th>\n",
       "      <th>artist</th>\n",
       "      <th>song</th>\n",
       "      <th>text</th>\n",
       "    </tr>\n",
       "  </thead>\n",
       "  <tbody>\n",
       "    <tr>\n",
       "      <th>0</th>\n",
       "      <td>Enya</td>\n",
       "      <td>Paint The Sky With Stars</td>\n",
       "      <td>Suddenly before my eyes  \\r\\nHues of indigo ar...</td>\n",
       "    </tr>\n",
       "    <tr>\n",
       "      <th>1</th>\n",
       "      <td>Britney Spears</td>\n",
       "      <td>I Run Away</td>\n",
       "      <td>You toke your love away,to fast  \\r\\nLeft no c...</td>\n",
       "    </tr>\n",
       "    <tr>\n",
       "      <th>2</th>\n",
       "      <td>Britney Spears</td>\n",
       "      <td>Burning Up</td>\n",
       "      <td>I'm on fire!  \\r\\n  \\r\\nDon't put me off 'caus...</td>\n",
       "    </tr>\n",
       "    <tr>\n",
       "      <th>3</th>\n",
       "      <td>Rihanna</td>\n",
       "      <td>Stupid In Love</td>\n",
       "      <td>Mm  \\r\\nStupid in love  \\r\\nOh  \\r\\nStupid in ...</td>\n",
       "    </tr>\n",
       "    <tr>\n",
       "      <th>4</th>\n",
       "      <td>Michael Jackson</td>\n",
       "      <td>Jam</td>\n",
       "      <td>Nation to nation, all the world must come toge...</td>\n",
       "    </tr>\n",
       "    <tr>\n",
       "      <th>5</th>\n",
       "      <td>Rammstein</td>\n",
       "      <td>Good-Bye</td>\n",
       "      <td>He lays the needle in the vein  \\r\\nAnd he ask...</td>\n",
       "    </tr>\n",
       "    <tr>\n",
       "      <th>6</th>\n",
       "      <td>Lady Gaga</td>\n",
       "      <td>Another Time</td>\n",
       "      <td>Lalalala  \\r\\nNow ew aw  \\r\\nBut it's not the ...</td>\n",
       "    </tr>\n",
       "    <tr>\n",
       "      <th>7</th>\n",
       "      <td>Carpenters</td>\n",
       "      <td>Have Yourself A Merry Little Christmas</td>\n",
       "      <td>Christmas future is far away  \\r\\nChristmas pa...</td>\n",
       "    </tr>\n",
       "    <tr>\n",
       "      <th>8</th>\n",
       "      <td>Leonard Cohen</td>\n",
       "      <td>Hallelujah</td>\n",
       "      <td>Now I've heard there was a secret chord  \\r\\nT...</td>\n",
       "    </tr>\n",
       "    <tr>\n",
       "      <th>9</th>\n",
       "      <td>Kris Kristofferson</td>\n",
       "      <td>The Bigger The Fool</td>\n",
       "      <td>Hey, doesn't it still look easy as it did to y...</td>\n",
       "    </tr>\n",
       "  </tbody>\n",
       "</table>\n",
       "</div>"
      ],
      "text/plain": [
       "               artist                                    song  \\\n",
       "0                Enya                Paint The Sky With Stars   \n",
       "1      Britney Spears                              I Run Away   \n",
       "2      Britney Spears                              Burning Up   \n",
       "3             Rihanna                          Stupid In Love   \n",
       "4     Michael Jackson                                     Jam   \n",
       "5           Rammstein                                Good-Bye   \n",
       "6           Lady Gaga                            Another Time   \n",
       "7          Carpenters  Have Yourself A Merry Little Christmas   \n",
       "8       Leonard Cohen                              Hallelujah   \n",
       "9  Kris Kristofferson                     The Bigger The Fool   \n",
       "\n",
       "                                                text  \n",
       "0  Suddenly before my eyes  \\r\\nHues of indigo ar...  \n",
       "1  You toke your love away,to fast  \\r\\nLeft no c...  \n",
       "2  I'm on fire!  \\r\\n  \\r\\nDon't put me off 'caus...  \n",
       "3  Mm  \\r\\nStupid in love  \\r\\nOh  \\r\\nStupid in ...  \n",
       "4  Nation to nation, all the world must come toge...  \n",
       "5  He lays the needle in the vein  \\r\\nAnd he ask...  \n",
       "6  Lalalala  \\r\\nNow ew aw  \\r\\nBut it's not the ...  \n",
       "7  Christmas future is far away  \\r\\nChristmas pa...  \n",
       "8  Now I've heard there was a secret chord  \\r\\nT...  \n",
       "9  Hey, doesn't it still look easy as it did to y...  "
      ]
     },
     "execution_count": 7,
     "metadata": {},
     "output_type": "execute_result"
    }
   ],
   "source": [
    "df.head(10)"
   ]
  },
  {
   "cell_type": "code",
   "execution_count": 8,
   "id": "66630247-2f50-4986-9da6-06bb9829803c",
   "metadata": {},
   "outputs": [
    {
     "data": {
      "text/plain": [
       "'Suddenly before my eyes  \\r\\nHues of indigo arise  \\r\\nWith them how my spirit sighs  \\r\\nPaint the sky with stars  \\r\\n  \\r\\nOnly night will ever know  \\r\\nWhy the heavens never show  \\r\\nAll the dreams there are to know  \\r\\nPaint the sky with stars  \\r\\n  \\r\\nWho has placed the midnight sky  \\r\\nSo a spirit has to fly?  \\r\\nAs the heavens seem so far now,  \\r\\nWho will paint the midnight star?  \\r\\n  \\r\\nNight has brought to those who sleep  \\r\\nOnly dreams they cannot keep  \\r\\nI have legends in the deep  \\r\\nPaint the sky with stars  \\r\\n  \\r\\nWho has placed the midnight sky  \\r\\nSo a spirit has to fly?  \\r\\nAs the heavens seem so far now,  \\r\\nWho will paint the midnight star?  \\r\\n  \\r\\nPlace a name upon the night  \\r\\nOne to set your heart alight  \\r\\nAnd to make the darkness bright  \\r\\nPaint the sky with stars.  \\r\\n\\r\\n'"
      ]
     },
     "execution_count": 8,
     "metadata": {},
     "output_type": "execute_result"
    }
   ],
   "source": [
    "df['text'][0]"
   ]
  },
  {
   "cell_type": "code",
   "execution_count": 9,
   "id": "18edbe98-2aa0-435c-9849-7daa1604770f",
   "metadata": {},
   "outputs": [
    {
     "data": {
      "text/plain": [
       "(10000, 3)"
      ]
     },
     "execution_count": 9,
     "metadata": {},
     "output_type": "execute_result"
    }
   ],
   "source": [
    "df.shape"
   ]
  },
  {
   "cell_type": "code",
   "execution_count": 10,
   "id": "a3737cab-0fdc-48d1-8c1c-53c4d2b44284",
   "metadata": {},
   "outputs": [],
   "source": [
    "df['text'] = df['text'].str.lower().replace(r'^\\w\\s', ' ').replace(r'\\n', ' ', regex = True)"
   ]
  },
  {
   "cell_type": "code",
   "execution_count": 11,
   "id": "a50a5d67-cca0-490d-957c-f414f91c941a",
   "metadata": {},
   "outputs": [],
   "source": [
    "def process_text(txt):\n",
    "    tokens = nltk.word_tokenize(txt)\n",
    "    stemming = [stemmer.stem(w) for w in tokens]\n",
    "    return \" \".join(stemming)"
   ]
  },
  {
   "cell_type": "code",
   "execution_count": 12,
   "id": "ce7f57eb-5312-4284-9a31-b3b106d4b122",
   "metadata": {},
   "outputs": [],
   "source": [
    "df['text'] = df['text'].apply(lambda x: process_text(x))"
   ]
  },
  {
   "cell_type": "code",
   "execution_count": 13,
   "id": "67d4cfb4-d00f-4e04-aa69-5245099f98e1",
   "metadata": {},
   "outputs": [],
   "source": [
    "tfidvector = TfidfVectorizer(analyzer='word',stop_words='english')\n",
    "matrix = tfidvector.fit_transform(df['text'])\n",
    "similarity = cosine_similarity(matrix)"
   ]
  },
  {
   "cell_type": "code",
   "execution_count": 14,
   "id": "67a77229-abd2-4c30-9594-874940cf9d79",
   "metadata": {},
   "outputs": [],
   "source": [
    "def recommendation(song_df):\n",
    "    idx = df[df['song'] == song_df].index[0]\n",
    "    distances = sorted(list(enumerate(similarity[idx])),reverse=True,key=lambda x:x[1])\n",
    "    \n",
    "    songs = []\n",
    "    for m_id in distances[1:21]:\n",
    "        songs.append(df.iloc[m_id[0]].song)\n",
    "        \n",
    "    return songs"
   ]
  },
  {
   "cell_type": "code",
   "execution_count": 15,
   "id": "5b057a68-a152-4ddd-b045-eca757b85adb",
   "metadata": {},
   "outputs": [
    {
     "data": {
      "text/plain": [
       "'Serial Killer'"
      ]
     },
     "execution_count": 15,
     "metadata": {},
     "output_type": "execute_result"
    }
   ],
   "source": [
    "df['song'][1000]"
   ]
  },
  {
   "cell_type": "code",
   "execution_count": 16,
   "id": "5129b846-30fd-4481-bca7-4f61a3256cdc",
   "metadata": {},
   "outputs": [
    {
     "data": {
      "text/plain": [
       "['Love Songs',\n",
       " \"I'm In Love Again\",\n",
       " 'Out Of My Head',\n",
       " \"Can't Get You Out Of My Head\",\n",
       " 'Ann',\n",
       " 'Jersey Girl',\n",
       " 'Jersey Girl',\n",
       " 'If U Seek Amy',\n",
       " 'Everything Is Sound',\n",
       " 'I Hate',\n",
       " 'Question!',\n",
       " \"Passenger (As Performed On BBC's 'Later' With Jools Holland)\",\n",
       " 'Red Death At 6:14',\n",
       " 'Another Star',\n",
       " 'Oo La La La',\n",
       " 'Brown Eyed Girl',\n",
       " 'Diddy',\n",
       " 'Brown Eyed Girl',\n",
       " 'Baby Come Out Tonight',\n",
       " 'Brown Eyed Girl']"
      ]
     },
     "execution_count": 16,
     "metadata": {},
     "output_type": "execute_result"
    }
   ],
   "source": [
    "recommendation(df['song'][1000])"
   ]
  },
  {
   "cell_type": "code",
   "execution_count": 17,
   "id": "d7139ec6-dff0-4f95-bdc7-a1fee2490d18",
   "metadata": {},
   "outputs": [],
   "source": [
    "import pickle\n",
    "pickle.dump(similarity,open('similarity.pkl','wb'))\n",
    "pickle.dump(df,open('df.pkl','wb'))"
   ]
  },
  {
   "cell_type": "code",
   "execution_count": 39,
   "id": "df35af71-be88-448a-920d-aeb25602a56c",
   "metadata": {},
   "outputs": [
    {
     "data": {
      "text/plain": [
       "(10000, 10000)"
      ]
     },
     "execution_count": 39,
     "metadata": {},
     "output_type": "execute_result"
    }
   ],
   "source": [
    "similarity.shape"
   ]
  }
 ],
 "metadata": {
  "kernelspec": {
   "display_name": "Python 3 (ipykernel)",
   "language": "python",
   "name": "python3"
  },
  "language_info": {
   "codemirror_mode": {
    "name": "ipython",
    "version": 3
   },
   "file_extension": ".py",
   "mimetype": "text/x-python",
   "name": "python",
   "nbconvert_exporter": "python",
   "pygments_lexer": "ipython3",
   "version": "3.10.6"
  }
 },
 "nbformat": 4,
 "nbformat_minor": 5
}
